{
 "cells": [
  {
   "cell_type": "markdown",
   "id": "9341c647-6def-4aa7-b5cb-f667d0ff3802",
   "metadata": {},
   "source": [
    "#### __POSTTEST 7 KECERDASAN BUATAN__\n",
    "#### Nama : Puput Widyastuti\n",
    "#### Nim  : 2109106074\n",
    "#### Kelas: Informatika B121"
   ]
  },
  {
   "cell_type": "markdown",
   "id": "22bdce9a-abfe-4722-923b-f2c39aefaf29",
   "metadata": {},
   "source": [
    "### Link :\n",
    "https://www.kaggle.com/datasets/sachinkumar413/diabetic-retinopathy-dataset"
   ]
  },
  {
   "cell_type": "code",
   "execution_count": 1,
   "id": "c864b91e-9e3e-44f3-b1a7-41354bd0e87a",
   "metadata": {},
   "outputs": [],
   "source": [
    "#untuk mengimpor library yang akan digunakan\n",
    "import tensorflow as tf\n",
    "import matplotlib.pyplot as plt\n",
    "import matplotlib.image as mpig\n",
    "from tensorflow.keras.layers import Conv2D, MaxPooling2D, Flatten, Dense\n",
    "from tensorflow.keras.models import Sequential\n",
    "from tensorflow.keras import layers\n",
    "from keras.optimizers import Adam\n",
    "import os\n",
    "from keras.preprocessing.image import ImageDataGenerator\n",
    "from sklearn.model_selection import train_test_split\n",
    "from keras.callbacks import EarlyStopping\n",
    "import shutil"
   ]
  },
  {
   "cell_type": "markdown",
   "id": "36394924-c181-4606-b975-781161f63b41",
   "metadata": {},
   "source": [
    "**AUGMENTASI DATA**"
   ]
  },
  {
   "cell_type": "code",
   "execution_count": 2,
   "id": "9768f632-979c-4f58-b2af-7ff508489744",
   "metadata": {},
   "outputs": [],
   "source": [
    "train_datagen = ImageDataGenerator(\n",
    "    rescale = 1.0/255,\n",
    "    rotation_range = 0.45,\n",
    "    width_shift_range = 0.2,\n",
    "    height_shift_range = 0.2,\n",
    "    shear_range = 0.2,\n",
    "    zoom_range = 0.2,\n",
    "    horizontal_flip = True,\n",
    "    fill_mode = 'nearest'\n",
    ")"
   ]
  },
  {
   "cell_type": "code",
   "execution_count": 3,
   "id": "c045589d-7bbe-49ca-9990-41b8a5484c5d",
   "metadata": {},
   "outputs": [],
   "source": [
    "#untuk menginisialisasi test & val\n",
    "test_datagen = ImageDataGenerator(\n",
    "    rescale = 1.0/255\n",
    ")\n",
    "val_datagen = ImageDataGenerator(\n",
    "    rescale = 1.0/255\n",
    ")"
   ]
  },
  {
   "cell_type": "code",
   "execution_count": 4,
   "id": "c95e423f-ba9c-4aa6-8213-136e7c1d0820",
   "metadata": {},
   "outputs": [
    {
     "name": "stdout",
     "output_type": "stream",
     "text": [
      "Found 2200 images belonging to 5 classes.\n",
      "Found 275 images belonging to 5 classes.\n",
      "Found 0 images belonging to 0 classes.\n"
     ]
    }
   ],
   "source": [
    "#SPLIT DATA MENJADI TRAIN, TEST, DAN VAL\n",
    "\n",
    "#untuk membuat path ke direktori utama dari folder 'Diabetic_Rethinopathy_Dataset'\n",
    "dataset_dir = 'Diabetic_Rethinopathy_Dataset'\n",
    "#untuk membagi proporsi dataset\n",
    "train_ratio = 0.5\n",
    "test_ratio = 0.10\n",
    "val_ratio = 0.10\n",
    "\n",
    "#nama kelas yang digunakan\n",
    "class_nms = [\n",
    "    'Healthy',\n",
    "    'Mild DR',\n",
    "    'Moderate DR',\n",
    "    'Proliferate DR',\n",
    "    'Severe DR'\n",
    "]\n",
    "\n",
    "for class_nm in class_nms :\n",
    "    #untuk membagi data pada setiap kelas yang digunakan\n",
    "    class_dir = os.path.join(dataset_dir, class_nm)\n",
    "    filenames = os.listdir(class_dir)\n",
    "    train_files, test_val_files = train_test_split(\n",
    "        filenames, \n",
    "        test_size = (val_ratio + test_ratio), \n",
    "        random_state = 42\n",
    "    )\n",
    "    val_files, test_files = train_test_split(\n",
    "        test_val_files, \n",
    "        test_size = test_ratio / (val_ratio + test_ratio), \n",
    "        random_state = 42\n",
    "    )\n",
    "    #untuk membuat direktori pada subset train\n",
    "    train_dir = os.path.join(dataset_dir, 'train', class_nm)\n",
    "    #untuk membuat direktori pada subset test\n",
    "    test_dir = os.path.join(dataset_dir, 'test', class_nm)\n",
    "    #untuk membuat direktori pada subset val\n",
    "    val_dir = os.path.join(dataset_dir, 'val', class_nm)\n",
    "    os.makedirs(train_dir, exist_ok = True)\n",
    "    os.makedirs(test_dir, exist_ok = True)\n",
    "    os.makedirs(val_dir, exist_ok = True)\n",
    "\n",
    "    #untuk mengcopy gambar pada dataset kedalam subset yang sudah dibuat 'train'\n",
    "    for filename in train_files :\n",
    "        src = os.path.join(class_dir, filename)\n",
    "        dst = os.path.join(train_dir, filename)\n",
    "        shutil.copy(src, dst)\n",
    "    \n",
    "    #untuk mengcopy gambar pada dataset kedalam subset yang sudah dibuat 'test'\n",
    "    for filename in test_files :\n",
    "        src = os.path.join(class_dir, filename)\n",
    "        dst = os.path.join(test_dir, filename)\n",
    "        shutil.copy(src, dst)\n",
    "\n",
    "    #untuk mengcopy gambar pada dataset kedalam subset yang sudah dibuat 'val'\n",
    "    for filename in val_files :\n",
    "        src = os.path.join(class_dir, filename)\n",
    "        dst = os.path.join(val_dir, filename)\n",
    "        shutil.copy(src, dst)\n",
    "\n",
    "#untuk membuat flow dari direktori\n",
    "train_dir = 'Diabetic_Rethinopathy_Dataset//train'  #untuk membuat direktori dari subset train\n",
    "train_generator = train_datagen.flow_from_directory(   \n",
    "    train_dir,\n",
    "    target_size = (150, 150),\n",
    "    batch_size = 32,\n",
    "    shuffle = True,\n",
    "    class_mode = 'categorical'\n",
    ")\n",
    "test_dir = 'Diabetic_Rethinopathy_Dataset//test'   #untuk membuat direktori dari subset test\n",
    "test_generator = test_datagen.flow_from_directory(\n",
    "    test_dir,\n",
    "    target_size = (150, 150),\n",
    "    batch_size = 32,\n",
    "    shuffle = True,\n",
    "    class_mode = 'categorical'\n",
    ")\n",
    "val_Dir = 'Diabetic_Rethinopathy_Dataset//val'    #untuk membuat direktori dari subset val\n",
    "val_generator = val_datagen.flow_from_directory(\n",
    "    val_dir,\n",
    "    target_size = (150, 150),\n",
    "    batch_size = 32,\n",
    "    shuffle = True,\n",
    "    class_mode = 'categorical'\n",
    ")"
   ]
  },
  {
   "cell_type": "markdown",
   "id": "3f0ddcd0-fd1f-42de-bedd-95b16b0359f3",
   "metadata": {},
   "source": [
    "**SEQUENTIAL MODEL**"
   ]
  },
  {
   "cell_type": "code",
   "execution_count": null,
   "id": "c6a5743f-c37e-46f9-9305-b85e0b3c6b87",
   "metadata": {
    "scrolled": true
   },
   "outputs": [
    {
     "name": "stdout",
     "output_type": "stream",
     "text": [
      "Epoch 1/10\n",
      "69/69 [==============================] - 253s 4s/step - loss: 1.3417 - accuracy: 0.4500\n",
      "Epoch 2/10\n",
      "69/69 [==============================] - 238s 3s/step - loss: 1.2328 - accuracy: 0.5450\n",
      "Epoch 3/10\n",
      "69/69 [==============================] - 237s 3s/step - loss: 1.1894 - accuracy: 0.5609\n",
      "Epoch 4/10\n",
      "69/69 [==============================] - 240s 3s/step - loss: 1.1676 - accuracy: 0.5718\n",
      "Epoch 5/10\n",
      "69/69 [==============================] - 239s 3s/step - loss: 1.1410 - accuracy: 0.5750\n",
      "Epoch 6/10\n",
      "69/69 [==============================] - 240s 3s/step - loss: 1.1045 - accuracy: 0.5841\n",
      "Epoch 7/10\n",
      "69/69 [==============================] - 239s 3s/step - loss: 1.1162 - accuracy: 0.5805\n",
      "Epoch 8/10\n",
      "69/69 [==============================] - 238s 3s/step - loss: 1.0743 - accuracy: 0.5923\n",
      "Epoch 9/10\n",
      "69/69 [==============================] - 241s 3s/step - loss: 1.0702 - accuracy: 0.5945\n",
      "Epoch 10/10\n",
      "69/69 [==============================] - 240s 3s/step - loss: 1.0560 - accuracy: 0.6018\n",
      "Epoch 1/10\n",
      "69/69 [==============================] - ETA: 0s - loss: 1.0457 - accuracy: 0.6041WARNING:tensorflow:Early stopping conditioned on metric `val_accuracy` which is not available. Available metrics are: loss,accuracy\n",
      "69/69 [==============================] - 231s 3s/step - loss: 1.0457 - accuracy: 0.6041\n",
      "Epoch 2/10\n",
      "14/69 [=====>........................] - ETA: 3:06 - loss: 0.9803 - accuracy: 0.6295"
     ]
    }
   ],
   "source": [
    "#UNTUK MEMBUAT SEQUENTIAL MODEL\n",
    "model = Sequential([\n",
    "    layers.Conv2D(128, (3, 3),\n",
    "                  activation='relu',\n",
    "                  input_shape=(150, 150, 3)),\n",
    "    layers.MaxPooling2D(2, 2),\n",
    "    layers.Conv2D(64, (3, 3), activation='relu'),\n",
    "    layers.MaxPooling2D(2, 2),\n",
    "    layers.Conv2D(32, (3, 3), activation='relu'),\n",
    "    layers.MaxPooling2D(2, 2),\n",
    "    #LAYER FLATTEN\n",
    "    layers.Flatten(),\n",
    "    #full-connected layer\n",
    "    layers.Dense(128, activation='relu'),\n",
    "    layers.Dense(64, activation='relu'),\n",
    "    layers.Dense(5, activation='softmax')\n",
    "])\n",
    "\n",
    "#UNTUK MENGCOMPILE MODEL YANG DIBUAT\n",
    "model.compile(\n",
    "    optimizer = Adam(learning_rate=0.001),\n",
    "    loss = 'categorical_crossentropy',\n",
    "    metrics = ['accuracy', ]\n",
    ")\n",
    "#UNTUK MENERAPKAN CALLBACK\n",
    "es=EarlyStopping(\n",
    "    monitor='val_accuracy',\n",
    "    patience=5,\n",
    "    restore_best_weights=True\n",
    ")\n",
    "model.fit(train_generator, epochs=10, validation_data=val_generator)\n",
    "\n",
    "#UNTUK MELATIH MODEL\n",
    "history = model.fit(train_generator, validation_data = val_generator, epochs = 10, verbose = 1, callbacks=[es])"
   ]
  },
  {
   "cell_type": "code",
   "execution_count": null,
   "id": "9d4d3c77-fc52-44a6-9c74-96df7c96e7ab",
   "metadata": {},
   "outputs": [],
   "source": [
    "#UNTUK MENGEVALUASI MODEL\n",
    "test_loss, test_accuracy = model.evaluate(test_generator)\n",
    "print(f'Loss     : {test_loss}')\n",
    "print(f'Accuracy : {test_accuracy}')\n",
    "print('===================================')"
   ]
  },
  {
   "cell_type": "markdown",
   "id": "f8a93f06-e887-483a-b34c-853b7b122131",
   "metadata": {},
   "source": [
    "**Grafik yang menampilkan pergerakan metrik (akurasi/error) dan loss terhadap epoch baik pada training maupun validation**"
   ]
  },
  {
   "cell_type": "code",
   "execution_count": 10,
   "id": "c3a8d0fa-02a4-4d39-b85e-8779961bfe9b",
   "metadata": {},
   "outputs": [
    {
     "data": {
      "image/png": "[encoded data removed]",
      "text/plain": [
       "<Figure size 1200x400 with 2 Axes>"
      ]
     },
     "metadata": {},
     "output_type": "display_data"
    }
   ],
   "source": [
    "train_accuracy = history.history['accuracy']\n",
    "train_loss = history.history['loss']\n",
    "#val_accuracy = history.history['val_accuracy']\n",
    "val_accuracy = history.history.get('val_accuracy', [])\n",
    "#val_loss = history.history['val_loss']\n",
    "val_loss = history.history.get('val_loss', [])\n",
    "\n",
    "plt.figure(figsize = (12, 4))\n",
    "plt.subplot(1, 2, 1)\n",
    "plt.plot(train_accuracy, label = 'Train Accuracy', marker = 'o')\n",
    "plt.plot(val_accuracy, label = 'Validation Accuracy', marker = 'o')\n",
    "plt.title('Model Accuracy')\n",
    "plt.xlabel('Epoch')\n",
    "plt.ylabel('Accuracy')\n",
    "plt.legend()\n",
    "\n",
    "plt.subplot(1, 2, 2)\n",
    "plt.plot(train_loss, label = 'Train Loss', marker = 'o')\n",
    "plt.plot(val_loss, label = 'Validation Loss', marker = 'o')\n",
    "plt.title('Model Loss')\n",
    "plt.xlabel('Epoch')\n",
    "plt.ylabel('Loss')\n",
    "plt.legend()\n",
    "\n",
    "plt.tight_layout()\n",
    "plt.show()"
   ]
  },
  {
   "cell_type": "code",
   "execution_count": null,
   "id": "7343fa4a-55a0-4a47-aaef-c6660be6b603",
   "metadata": {},
   "outputs": [],
   "source": []
  }
 ],
 "metadata": {
  "kernelspec": {
   "display_name": "puput_074",
   "language": "python",
   "name": "puput_074"
  },
  "language_info": {
   "codemirror_mode": {
    "name": "ipython",
    "version": 3
   },
   "file_extension": ".py",
   "mimetype": "text/x-python",
   "name": "python",
   "nbconvert_exporter": "python",
   "pygments_lexer": "ipython3",
   "version": "3.10.7"
  }
 },
 "nbformat": 4,
 "nbformat_minor": 5
}
