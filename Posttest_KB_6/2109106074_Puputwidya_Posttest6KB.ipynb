{
 "cells": [
  {
   "cell_type": "markdown",
   "id": "4ff457d0-6d8a-4b59-8607-3d072fd8ad0e",
   "metadata": {},
   "source": [
    "#### __POSTTEST 6 KECERDASAN BUATAN__\n",
    "#### Nama : Puput Widyastuti\n",
    "#### Nim  : 2109106074\n",
    "#### Kelas: Informatika B121"
   ]
  },
  {
   "cell_type": "code",
   "execution_count": 1,
   "id": "6b45f891-d507-469e-8a74-29a10b33c8f6",
   "metadata": {},
   "outputs": [],
   "source": [
    "#untuk mengimpor library yang diperlukan\n",
    "import pandas as pd                          #Mengimpor library Pandas \n",
    "import matplotlib.pyplot as plt              #Mengimpor library matplotlib \n",
    "import numpy as np                           #Mengimpor library numpy \n",
    "import tensorflow as tf                      #Mengimpor library tensorflow \n",
    "from tensorflow import keras\n",
    "from tensorflow.keras import Sequential\n",
    "from tensorflow.keras import layers, optimizers, datasets\n",
    "from sklearn.preprocessing import OneHotEncoder             \n",
    "from sklearn.model_selection import train_test_split\n",
    "from sklearn.preprocessing import LabelEncoder\n",
    "from sklearn.preprocessing import MinMaxScaler\n",
    "from sklearn.impute import SimpleImputer\n",
    "from sklearn.metrics import r2_score, accuracy_score\n",
    "\n",
    "#untuk membaca dataset\n",
    "df=pd.read_csv('Global Missing Migrants Dataset.csv')"
   ]
  },
  {
   "cell_type": "markdown",
   "id": "a7273bd9-e85e-4de8-ae5e-5d278ce583dc",
   "metadata": {},
   "source": [
    "#### Melakukan Preprocessing"
   ]
  },
  {
   "cell_type": "markdown",
   "id": "85e1bb38-b564-4d2f-a2e2-2aca512d77a4",
   "metadata": {},
   "source": [
    "**Menghapus kolom yang tidak diperlukan**"
   ]
  },
  {
   "cell_type": "code",
   "execution_count": 2,
   "id": "95c692ad-a1c4-44cc-87af-64b64c8a8c08",
   "metadata": {},
   "outputs": [],
   "source": [
    "# Menghapus kolom Migration route \n",
    "df = df.drop(columns=['Migration route'])\n",
    "# Menghapus kolom 'Cause of Death '\n",
    "df = df.drop(columns=['Cause of Death'])\n",
    "# Menghapus kolom Location of death \n",
    "df = df.drop(columns=['Location of death'])\n",
    "# Menghapus kolom Information Source  \n",
    "df = df.drop(columns=['Information Source'])\n",
    "# Menghapus kolom UNSD Geographical Grouping\n",
    "df = df.drop(columns=['UNSD Geographical Grouping'])\n",
    "# Menghapus kolom Coordinates\n",
    "df = df.drop(columns=['Coordinates'])"
   ]
  },
  {
   "cell_type": "markdown",
   "id": "35ddfeac-d12e-46bb-8e82-7adc76933ec6",
   "metadata": {},
   "source": [
    "**Data Cleaning**"
   ]
  },
  {
   "cell_type": "code",
   "execution_count": 3,
   "id": "6c54fad5-c906-43a3-ac9c-8f28f08ede2f",
   "metadata": {},
   "outputs": [
    {
     "data": {
      "text/plain": [
       "Incident Type                            0\n",
       "Incident year                            0\n",
       "Reported Month                           0\n",
       "Region of Origin                        22\n",
       "Region of Incident                       0\n",
       "Country of Origin                        8\n",
       "Number of Dead                         550\n",
       "Minimum Estimated Number of Missing      0\n",
       "Total Number of Dead and Missing         0\n",
       "Number of Survivors                      0\n",
       "Number of Females                        0\n",
       "Number of Males                          0\n",
       "Number of Children                       0\n",
       "dtype: int64"
      ]
     },
     "execution_count": 3,
     "metadata": {},
     "output_type": "execute_result"
    }
   ],
   "source": [
    "#CEK NILAI NULL DALAM DATASET\n",
    "df.isna().sum()"
   ]
  },
  {
   "cell_type": "code",
   "execution_count": null,
   "id": "10b3c1b0-9c6d-4e64-ab25-903de84b2482",
   "metadata": {},
   "outputs": [],
   "source": [
    "#kolom untuk tipe data bilangan bulat\n",
    "kol_int = ['Number of Dead', 'Minimum Estimated Number of Missing', 'Total Number of Dead and Missing',\t'Number of Survivors', 'Number of Females', 'Number of Males', 'Number of Children']\n",
    "\n",
    "#perulangan untuk mengecek nilai null setiap kolom 'int', dan akan diganti menggunakan strategi 'median'\n",
    "for kolom in kol_int:\n",
    "    if df[kolom].dtype == 'int64':\n",
    "        median_value = df[kolom].median()\n",
    "        df[kolom].fillna(median_value, inplace=True)\n",
    "    else:\n",
    "        mode_value = df[kolom].mode().iloc[0]\n",
    "        df[kolom].fillna(mode_value, inplace=True)\n",
    "# Kolom tipe data string\n",
    "kol_string = ['Incident Type', 'Incident year', 'Reported Month', 'Region of Origin', 'Region of Incident', 'Country of Origin', ]\n",
    "#perulangan untuk mengecek nilai null setiap kolom bernilai 'object', dan akan diganti menggunakan strategi 'mean'\n",
    "for kolom in kol_string:\n",
    "    if df[kolom].dtype == 'object':\n",
    "        mode_value = df[kolom].mode().iloc[0]\n",
    "        df[kolom].fillna(mode_value, inplace=True)\n",
    "        \n",
    "print('*' * 80)\n",
    "print(df)\n",
    "print('*' * 65)\n",
    "print('*' * 65)"
   ]
  },
  {
   "cell_type": "code",
   "execution_count": 5,
   "id": "a5e94f5d-08fa-43c2-8121-980350de44fa",
   "metadata": {},
   "outputs": [
    {
     "name": "stdout",
     "output_type": "stream",
     "text": [
      "Incident Type                          0\n",
      "Incident year                          0\n",
      "Reported Month                         0\n",
      "Region of Origin                       0\n",
      "Region of Incident                     0\n",
      "Country of Origin                      0\n",
      "Number of Dead                         0\n",
      "Minimum Estimated Number of Missing    0\n",
      "Total Number of Dead and Missing       0\n",
      "Number of Survivors                    0\n",
      "Number of Females                      0\n",
      "Number of Males                        0\n",
      "Number of Children                     0\n",
      "dtype: int64\n"
     ]
    }
   ],
   "source": [
    "print(df.isna().sum())"
   ]
  },
  {
   "cell_type": "markdown",
   "id": "86555849-1977-4950-8226-599c98f769b5",
   "metadata": {},
   "source": [
    "**Periksa Duplikat Data**"
   ]
  },
  {
   "cell_type": "code",
   "execution_count": 6,
   "id": "b68bc24c-b9ed-42a1-88ba-88e03c689191",
   "metadata": {},
   "outputs": [
    {
     "name": "stdout",
     "output_type": "stream",
     "text": [
      "===================================\n",
      "Jumlah Duplikat Saat Ini : 5622\n",
      "===================================\n"
     ]
    }
   ],
   "source": [
    "jmlh_duplikat = df.duplicated().sum()\n",
    "print('===================================')\n",
    "print(f\"Jumlah Duplikat Saat Ini : {jmlh_duplikat}\")\n",
    "print('===================================')"
   ]
  },
  {
   "cell_type": "markdown",
   "id": "e3348295-942a-42cd-809a-1cba8415c6e3",
   "metadata": {},
   "source": [
    "**Menghapus duplikat data**"
   ]
  },
  {
   "cell_type": "code",
   "execution_count": 7,
   "id": "1ff537da-0e86-4d6f-9a4e-e8b22566ec5d",
   "metadata": {},
   "outputs": [
    {
     "name": "stdout",
     "output_type": "stream",
     "text": [
      "===================================\n",
      "Jumlah Duplikat setelah DiHapus: 0\n",
      "===================================\n"
     ]
    }
   ],
   "source": [
    "# untuk menghapus duplikat berdasarkan semua kolom\n",
    "df.drop_duplicates(inplace=True)\n",
    "jmlh_duplikat_hps = df.duplicated().sum()\n",
    "print('===================================')\n",
    "print(f\"Jumlah Duplikat setelah DiHapus: {jmlh_duplikat_hps}\")\n",
    "print('===================================')"
   ]
  },
  {
   "cell_type": "code",
   "execution_count": 9,
   "id": "14b85990-92db-4cdb-ae66-f65c2edac6ee",
   "metadata": {},
   "outputs": [
    {
     "name": "stdout",
     "output_type": "stream",
     "text": [
      "===================================\n",
      "      Jumlah total data: 7398\n",
      "===================================\n"
     ]
    }
   ],
   "source": [
    "total_data = df.shape[0]  # Jumlah baris\n",
    "total_kolom = df.shape[1]  # Jumlah kolom\n",
    "print('===================================')\n",
    "print(f\"      Jumlah total data: {total_data}\")\n",
    "print('===================================')"
   ]
  },
  {
   "cell_type": "code",
   "execution_count": 10,
   "id": "935c06fc-d181-42ca-a5af-ba737f3da14c",
   "metadata": {},
   "outputs": [
    {
     "data": {
      "text/html": [
       "<div>\n",
       "<style scoped>\n",
       "    .dataframe tbody tr th:only-of-type {\n",
       "        vertical-align: middle;\n",
       "    }\n",
       "\n",
       "    .dataframe tbody tr th {\n",
       "        vertical-align: top;\n",
       "    }\n",
       "\n",
       "    .dataframe thead th {\n",
       "        text-align: right;\n",
       "    }\n",
       "</style>\n",
       "<table border=\"1\" class=\"dataframe\">\n",
       "  <thead>\n",
       "    <tr style=\"text-align: right;\">\n",
       "      <th></th>\n",
       "      <th>Incident Type</th>\n",
       "      <th>Incident year</th>\n",
       "      <th>Reported Month</th>\n",
       "      <th>Region of Origin</th>\n",
       "      <th>Region of Incident</th>\n",
       "      <th>Country of Origin</th>\n",
       "      <th>Number of Dead</th>\n",
       "      <th>Minimum Estimated Number of Missing</th>\n",
       "      <th>Total Number of Dead and Missing</th>\n",
       "      <th>Number of Survivors</th>\n",
       "      <th>Number of Females</th>\n",
       "      <th>Number of Males</th>\n",
       "      <th>Number of Children</th>\n",
       "    </tr>\n",
       "  </thead>\n",
       "  <tbody>\n",
       "    <tr>\n",
       "      <th>2491</th>\n",
       "      <td>Incident</td>\n",
       "      <td>2017</td>\n",
       "      <td>January</td>\n",
       "      <td>Unknown</td>\n",
       "      <td>Mediterranean</td>\n",
       "      <td>Unknown</td>\n",
       "      <td>10.0</td>\n",
       "      <td>0</td>\n",
       "      <td>10</td>\n",
       "      <td>0</td>\n",
       "      <td>1</td>\n",
       "      <td>8</td>\n",
       "      <td>1</td>\n",
       "    </tr>\n",
       "    <tr>\n",
       "      <th>4106</th>\n",
       "      <td>Incident</td>\n",
       "      <td>2018</td>\n",
       "      <td>April</td>\n",
       "      <td>Central America</td>\n",
       "      <td>North America</td>\n",
       "      <td>Honduras</td>\n",
       "      <td>1.0</td>\n",
       "      <td>0</td>\n",
       "      <td>1</td>\n",
       "      <td>0</td>\n",
       "      <td>0</td>\n",
       "      <td>1</td>\n",
       "      <td>0</td>\n",
       "    </tr>\n",
       "    <tr>\n",
       "      <th>206</th>\n",
       "      <td>Incident</td>\n",
       "      <td>2014</td>\n",
       "      <td>September</td>\n",
       "      <td>Western Asia</td>\n",
       "      <td>Western Asia</td>\n",
       "      <td>Syrian Arab Republic</td>\n",
       "      <td>1.0</td>\n",
       "      <td>0</td>\n",
       "      <td>1</td>\n",
       "      <td>0</td>\n",
       "      <td>0</td>\n",
       "      <td>1</td>\n",
       "      <td>1</td>\n",
       "    </tr>\n",
       "    <tr>\n",
       "      <th>10426</th>\n",
       "      <td>Incident</td>\n",
       "      <td>2022</td>\n",
       "      <td>March</td>\n",
       "      <td>Sub-Saharan Africa</td>\n",
       "      <td>Mediterranean</td>\n",
       "      <td>Unknown</td>\n",
       "      <td>1.0</td>\n",
       "      <td>24</td>\n",
       "      <td>24</td>\n",
       "      <td>0</td>\n",
       "      <td>0</td>\n",
       "      <td>0</td>\n",
       "      <td>0</td>\n",
       "    </tr>\n",
       "    <tr>\n",
       "      <th>3759</th>\n",
       "      <td>Incident</td>\n",
       "      <td>2018</td>\n",
       "      <td>January</td>\n",
       "      <td>Sub-Saharan Africa (P)</td>\n",
       "      <td>Western Africa</td>\n",
       "      <td>Unknown</td>\n",
       "      <td>1.0</td>\n",
       "      <td>0</td>\n",
       "      <td>1</td>\n",
       "      <td>0</td>\n",
       "      <td>0</td>\n",
       "      <td>1</td>\n",
       "      <td>0</td>\n",
       "    </tr>\n",
       "    <tr>\n",
       "      <th>...</th>\n",
       "      <td>...</td>\n",
       "      <td>...</td>\n",
       "      <td>...</td>\n",
       "      <td>...</td>\n",
       "      <td>...</td>\n",
       "      <td>...</td>\n",
       "      <td>...</td>\n",
       "      <td>...</td>\n",
       "      <td>...</td>\n",
       "      <td>...</td>\n",
       "      <td>...</td>\n",
       "      <td>...</td>\n",
       "      <td>...</td>\n",
       "    </tr>\n",
       "    <tr>\n",
       "      <th>5346</th>\n",
       "      <td>Incident</td>\n",
       "      <td>2018</td>\n",
       "      <td>December</td>\n",
       "      <td>Central America</td>\n",
       "      <td>North America</td>\n",
       "      <td>Guatemala</td>\n",
       "      <td>1.0</td>\n",
       "      <td>0</td>\n",
       "      <td>1</td>\n",
       "      <td>0</td>\n",
       "      <td>0</td>\n",
       "      <td>0</td>\n",
       "      <td>1</td>\n",
       "    </tr>\n",
       "    <tr>\n",
       "      <th>8544</th>\n",
       "      <td>Split Incident</td>\n",
       "      <td>2021</td>\n",
       "      <td>February</td>\n",
       "      <td>Middle Africa</td>\n",
       "      <td>Mediterranean</td>\n",
       "      <td>Chad,Unknown</td>\n",
       "      <td>2.0</td>\n",
       "      <td>3</td>\n",
       "      <td>5</td>\n",
       "      <td>47</td>\n",
       "      <td>0</td>\n",
       "      <td>2</td>\n",
       "      <td>0</td>\n",
       "    </tr>\n",
       "    <tr>\n",
       "      <th>10593</th>\n",
       "      <td>Incident</td>\n",
       "      <td>2022</td>\n",
       "      <td>March</td>\n",
       "      <td>Caribbean</td>\n",
       "      <td>Caribbean</td>\n",
       "      <td>Cuba</td>\n",
       "      <td>1.0</td>\n",
       "      <td>0</td>\n",
       "      <td>1</td>\n",
       "      <td>0</td>\n",
       "      <td>1</td>\n",
       "      <td>0</td>\n",
       "      <td>0</td>\n",
       "    </tr>\n",
       "    <tr>\n",
       "      <th>11004</th>\n",
       "      <td>Split Incident</td>\n",
       "      <td>2022</td>\n",
       "      <td>June</td>\n",
       "      <td>Central America</td>\n",
       "      <td>North America</td>\n",
       "      <td>Guatemala,Honduras,Mexico</td>\n",
       "      <td>53.0</td>\n",
       "      <td>0</td>\n",
       "      <td>53</td>\n",
       "      <td>0</td>\n",
       "      <td>13</td>\n",
       "      <td>40</td>\n",
       "      <td>6</td>\n",
       "    </tr>\n",
       "    <tr>\n",
       "      <th>2536</th>\n",
       "      <td>Incident</td>\n",
       "      <td>2017</td>\n",
       "      <td>February</td>\n",
       "      <td>Southern Asia</td>\n",
       "      <td>Southern Asia</td>\n",
       "      <td>Afghanistan</td>\n",
       "      <td>1.0</td>\n",
       "      <td>0</td>\n",
       "      <td>1</td>\n",
       "      <td>0</td>\n",
       "      <td>0</td>\n",
       "      <td>1</td>\n",
       "      <td>0</td>\n",
       "    </tr>\n",
       "  </tbody>\n",
       "</table>\n",
       "<p>4000 rows × 13 columns</p>\n",
       "</div>"
      ],
      "text/plain": [
       "        Incident Type  Incident year Reported Month        Region of Origin  \\\n",
       "2491         Incident           2017        January                 Unknown   \n",
       "4106         Incident           2018          April         Central America   \n",
       "206          Incident           2014      September            Western Asia   \n",
       "10426        Incident           2022          March      Sub-Saharan Africa   \n",
       "3759         Incident           2018        January  Sub-Saharan Africa (P)   \n",
       "...               ...            ...            ...                     ...   \n",
       "5346         Incident           2018       December         Central America   \n",
       "8544   Split Incident           2021       February           Middle Africa   \n",
       "10593        Incident           2022          March               Caribbean   \n",
       "11004  Split Incident           2022           June         Central America   \n",
       "2536         Incident           2017       February           Southern Asia   \n",
       "\n",
       "      Region of Incident          Country of Origin  Number of Dead  \\\n",
       "2491       Mediterranean                    Unknown            10.0   \n",
       "4106       North America                   Honduras             1.0   \n",
       "206         Western Asia       Syrian Arab Republic             1.0   \n",
       "10426      Mediterranean                    Unknown             1.0   \n",
       "3759      Western Africa                    Unknown             1.0   \n",
       "...                  ...                        ...             ...   \n",
       "5346       North America                  Guatemala             1.0   \n",
       "8544       Mediterranean               Chad,Unknown             2.0   \n",
       "10593          Caribbean                       Cuba             1.0   \n",
       "11004      North America  Guatemala,Honduras,Mexico            53.0   \n",
       "2536       Southern Asia                Afghanistan             1.0   \n",
       "\n",
       "       Minimum Estimated Number of Missing  Total Number of Dead and Missing  \\\n",
       "2491                                     0                                10   \n",
       "4106                                     0                                 1   \n",
       "206                                      0                                 1   \n",
       "10426                                   24                                24   \n",
       "3759                                     0                                 1   \n",
       "...                                    ...                               ...   \n",
       "5346                                     0                                 1   \n",
       "8544                                     3                                 5   \n",
       "10593                                    0                                 1   \n",
       "11004                                    0                                53   \n",
       "2536                                     0                                 1   \n",
       "\n",
       "       Number of Survivors  Number of Females  Number of Males  \\\n",
       "2491                     0                  1                8   \n",
       "4106                     0                  0                1   \n",
       "206                      0                  0                1   \n",
       "10426                    0                  0                0   \n",
       "3759                     0                  0                1   \n",
       "...                    ...                ...              ...   \n",
       "5346                     0                  0                0   \n",
       "8544                    47                  0                2   \n",
       "10593                    0                  1                0   \n",
       "11004                    0                 13               40   \n",
       "2536                     0                  0                1   \n",
       "\n",
       "       Number of Children  \n",
       "2491                    1  \n",
       "4106                    0  \n",
       "206                     1  \n",
       "10426                   0  \n",
       "3759                    0  \n",
       "...                   ...  \n",
       "5346                    1  \n",
       "8544                    0  \n",
       "10593                   0  \n",
       "11004                   6  \n",
       "2536                    0  \n",
       "\n",
       "[4000 rows x 13 columns]"
      ]
     },
     "execution_count": 10,
     "metadata": {},
     "output_type": "execute_result"
    }
   ],
   "source": [
    "# untuk melakukan pemotongan (subsampling) dari DataFrame df sesuai keinginan\n",
    "n = 4000 #jumlah data yang diinginkan\n",
    "if len(df)>n:\n",
    "    random_indices = np.random.choice(len(df), n, replace=False)\n",
    "    df=df.iloc[random_indices]\n",
    "df"
   ]
  },
  {
   "cell_type": "markdown",
   "id": "a0853ed4-ee62-436b-b202-e216175334cc",
   "metadata": {},
   "source": [
    "## Sequential Model"
   ]
  },
  {
   "cell_type": "code",
   "execution_count": 12,
   "id": "1f9d7f05-12a3-4851-90ed-0f53577f29ee",
   "metadata": {},
   "outputs": [
    {
     "name": "stdout",
     "output_type": "stream",
     "text": [
      "Model: \"sequential\"\n",
      "_________________________________________________________________\n",
      " Layer (type)                Output Shape              Param #   \n",
      "=================================================================\n",
      " dense (Dense)               (None, 32)                64        \n",
      "                                                                 \n",
      " dense_1 (Dense)             (None, 8)                 264       \n",
      "                                                                 \n",
      " dense_2 (Dense)             (None, 1)                 9         \n",
      "                                                                 \n",
      "=================================================================\n",
      "Total params: 337 (1.32 KB)\n",
      "Trainable params: 337 (1.32 KB)\n",
      "Non-trainable params: 0 (0.00 Byte)\n",
      "_________________________________________________________________\n"
     ]
    }
   ],
   "source": [
    "#membuat sebuah objek model sequential\n",
    "model = Sequential([\n",
    "    layers.Dense(32, activation='relu', input_shape=(1,)),  #lapisan pertama dalam model\n",
    "    layers.Dense(8, activation='relu'),                     #lapisan kedua dalam model\n",
    "    layers.Dense(1, activation='linear'),                   #lapisan ketiga dalam model \n",
    "])\n",
    "#untuk menampilkan summary tiap model\n",
    "model.summary()"
   ]
  },
  {
   "cell_type": "code",
   "execution_count": 13,
   "id": "dc90e0d2-2eb8-41b4-8082-3391dc235915",
   "metadata": {},
   "outputs": [],
   "source": [
    "#mengkonfigurasi model deep learning sebelum pelatihan\n",
    "model.compile( optimizer='adam', loss='mean_squared_error',  metrics=['mean_absolute_error', 'mean_squared_error'])"
   ]
  },
  {
   "cell_type": "code",
   "execution_count": 14,
   "id": "54cc450b-2852-4f50-ad9d-1b64771f87a5",
   "metadata": {},
   "outputs": [],
   "source": [
    "#menentukan kolom yang akan digunakan\n",
    "migrants_X, migrants_y = df[['Number of Males']], df['Number of Dead']\n",
    "\n",
    "#membagi dataset menjadi 2, yaitu : data pelatihan dan data pengujian\n",
    "X_train, X_test, y_train, y_test = train_test_split(\n",
    "    migrants_X, migrants_y, test_size=0.2, random_state=42\n",
    ")"
   ]
  },
  {
   "cell_type": "markdown",
   "id": "b77bd678-d448-4198-8df3-8b1411814ce0",
   "metadata": {},
   "source": [
    "**melatih & mengevaluasi**"
   ]
  },
  {
   "cell_type": "code",
   "execution_count": 20,
   "id": "96f0134c-0b18-41a4-b7d6-0a70bb32c4df",
   "metadata": {},
   "outputs": [
    {
     "name": "stdout",
     "output_type": "stream",
     "text": [
      "Epoch 1/10\n",
      "100/100 [==============================] - 1s 7ms/step - loss: 71.2071 - mean_absolute_error: 3.2731 - mean_squared_error: 71.2071 - val_loss: 72.1899 - val_mean_absolute_error: 3.2090 - val_mean_squared_error: 72.1899\n",
      "Epoch 2/10\n",
      "100/100 [==============================] - 1s 5ms/step - loss: 71.2573 - mean_absolute_error: 3.2083 - mean_squared_error: 71.2573 - val_loss: 72.0209 - val_mean_absolute_error: 3.1977 - val_mean_squared_error: 72.0209\n",
      "Epoch 3/10\n",
      "100/100 [==============================] - 1s 5ms/step - loss: 71.3520 - mean_absolute_error: 3.2109 - mean_squared_error: 71.3520 - val_loss: 72.1887 - val_mean_absolute_error: 3.2440 - val_mean_squared_error: 72.1887\n",
      "Epoch 4/10\n",
      "100/100 [==============================] - 1s 6ms/step - loss: 71.3709 - mean_absolute_error: 3.2437 - mean_squared_error: 71.3709 - val_loss: 72.4723 - val_mean_absolute_error: 3.2789 - val_mean_squared_error: 72.4723\n",
      "Epoch 5/10\n",
      "100/100 [==============================] - 1s 6ms/step - loss: 71.3022 - mean_absolute_error: 3.2328 - mean_squared_error: 71.3022 - val_loss: 72.2712 - val_mean_absolute_error: 3.2730 - val_mean_squared_error: 72.2712\n",
      "Epoch 6/10\n",
      "100/100 [==============================] - 1s 5ms/step - loss: 71.3480 - mean_absolute_error: 3.2608 - mean_squared_error: 71.3480 - val_loss: 71.9599 - val_mean_absolute_error: 3.2146 - val_mean_squared_error: 71.9599\n",
      "Epoch 7/10\n",
      "100/100 [==============================] - 1s 6ms/step - loss: 71.3542 - mean_absolute_error: 3.2309 - mean_squared_error: 71.3542 - val_loss: 72.5388 - val_mean_absolute_error: 3.2965 - val_mean_squared_error: 72.5388\n",
      "Epoch 8/10\n",
      "100/100 [==============================] - 1s 6ms/step - loss: 71.4411 - mean_absolute_error: 3.3007 - mean_squared_error: 71.4411 - val_loss: 72.8847 - val_mean_absolute_error: 3.3163 - val_mean_squared_error: 72.8847\n",
      "Epoch 9/10\n",
      "100/100 [==============================] - 1s 6ms/step - loss: 71.1532 - mean_absolute_error: 3.2746 - mean_squared_error: 71.1532 - val_loss: 72.0132 - val_mean_absolute_error: 3.2137 - val_mean_squared_error: 72.0132\n",
      "Epoch 10/10\n",
      "100/100 [==============================] - 1s 6ms/step - loss: 71.4503 - mean_absolute_error: 3.1981 - mean_squared_error: 71.4503 - val_loss: 72.4109 - val_mean_absolute_error: 3.2787 - val_mean_squared_error: 72.4109\n",
      "25/25 [==============================] - 0s 4ms/step - loss: 72.4109 - mean_absolute_error: 3.2787 - mean_squared_error: 72.4109\n",
      "===================================================\n",
      "   Mean Absolute Error (MAE) : 3.278745174407959\n",
      "   Mean Squared Error (MSE)  : 72.4108657836914\n",
      "===================================================\n"
     ]
    }
   ],
   "source": [
    "#untuk melatih model neural network dengan data pelatihan\n",
    "history = model.fit(X_train, y_train, epochs=10, batch_size=32, validation_data=(X_test, y_test))\n",
    "#untuk mengevaluasi model\n",
    "loss, mae, mse = model.evaluate(X_test, y_test)\n",
    "print('===================================================')\n",
    "print(f'   Mean Absolute Error (MAE) : {mae}')\n",
    "print(f'   Mean Squared Error (MSE)  : {mse}')\n",
    "print('===================================================')"
   ]
  },
  {
   "cell_type": "markdown",
   "id": "cf4cc4b3-e15e-4252-89a8-92082c0711ae",
   "metadata": {},
   "source": [
    "**Menggunakan r2_score (R2)**"
   ]
  },
  {
   "cell_type": "code",
   "execution_count": 16,
   "id": "b87e704c-f47f-47cc-9fca-0deed1082d6a",
   "metadata": {},
   "outputs": [
    {
     "name": "stdout",
     "output_type": "stream",
     "text": [
      "25/25 [==============================] - 0s 4ms/step\n",
      "R-squared (R2): -0.032364726433931734\n"
     ]
    }
   ],
   "source": [
    "# Prediksi model\n",
    "y_pred = model.predict(X_test)\n",
    "\n",
    "# Menghitung R-squared (R2)\n",
    "r2 = r2_score(y_test, y_pred)\n",
    "print(f'R-squared (R2): {r2}')"
   ]
  },
  {
   "cell_type": "code",
   "execution_count": 17,
   "id": "d46dc0a1-37de-431f-b6d3-ba0fe97fdd0d",
   "metadata": {},
   "outputs": [],
   "source": [
    "#untuk mengambil beberapa metrik evaluasi dan nilai loss dari riwayat pelatihan model\n",
    "mae = history.history['mean_absolute_error']\n",
    "val_mae = history.history['val_mean_absolute_error']\n",
    "mse = history.history['mean_squared_error']\n",
    "val_mse = history.history['val_mean_squared_error']\n",
    "\n",
    "# Ambil loss dari riwayat pelatihan model\n",
    "loss = history.history['loss']\n",
    "val_loss = history.history['val_loss']\n"
   ]
  },
  {
   "cell_type": "markdown",
   "id": "7de3bc68-198e-4f84-80e5-bd58ac98120c",
   "metadata": {},
   "source": [
    "**Grafik Pergerakan Loss & Metrics**"
   ]
  },
  {
   "cell_type": "code",
   "execution_count": 18,
   "id": "3fcb806d-fb9c-4d71-bcec-74021aad7c1b",
   "metadata": {},
   "outputs": [
    {
     "data": {
      "image/png": "[encoded data removed]",
      "text/plain": [
       "<Figure size 1200x600 with 2 Axes>"
      ]
     },
     "metadata": {},
     "output_type": "display_data"
    }
   ],
   "source": [
    "#untuk membuat grafik model accuracy\n",
    "plt.figure(figsize=(12, 6))\n",
    "plt.subplot(1, 2, 1)\n",
    "plt.plot(mae, label='Training MAE')\n",
    "plt.plot(val_mae, label='Validation MAE')\n",
    "plt.xlabel('Epoch')\n",
    "plt.ylabel('Mean Absolute Error (MAE)')\n",
    "plt.legend()\n",
    "plt.title('Model Accuracy')\n",
    "\n",
    "#untuk membuat grafik model loss\n",
    "plt.subplot(1, 2, 2)\n",
    "plt.plot(loss, label='Training Loss')\n",
    "plt.plot(val_loss, label='Validation Loss')\n",
    "plt.xlabel('Epoch')\n",
    "plt.ylabel('Loss')\n",
    "plt.legend()\n",
    "plt.title('Model Loss')\n",
    "#untuk menampilkan grafik\n",
    "plt.tight_layout()\n",
    "plt.show()"
   ]
  }
 ],
 "metadata": {
  "kernelspec": {
   "display_name": "puput_074",
   "language": "python",
   "name": "puput_074"
  },
  "language_info": {
   "codemirror_mode": {
    "name": "ipython",
    "version": 3
   },
   "file_extension": ".py",
   "mimetype": "text/x-python",
   "name": "python",
   "nbconvert_exporter": "python",
   "pygments_lexer": "ipython3",
   "version": "3.10.7"
  }
 },
 "nbformat": 4,
 "nbformat_minor": 5
}
